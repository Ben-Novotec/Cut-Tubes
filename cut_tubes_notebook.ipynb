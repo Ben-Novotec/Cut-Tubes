{
 "cells": [
  {
   "cell_type": "markdown",
   "metadata": {
    "pycharm": {
     "name": "#%% md\n"
    }
   },
   "source": [
    "0![](NovoteclogoPNG.png)\n",
    "## cut_pipes notebook\n",
    "\n",
    "Dit notebook leest een excel bom lijst en maakt hiermee een txt file met het aantal benodigde buizen.\n",
    "In de txt file staat in welke lengtes elke buis moet worden gezaagd om het minst aantal buizen nodig te hebben, en de lengte van elke buis die dan nog overblijft.\n",
    "\n",
    "Eerst wordt het script geïmporteerd:"
   ]
  },
  {
   "cell_type": "code",
   "execution_count": 1,
   "metadata": {
    "collapsed": true
   },
   "outputs": [],
   "source": [
    "from cut_tubes import cut_tubes"
   ]
  },
  {
   "cell_type": "markdown",
   "metadata": {
    "pycharm": {
     "name": "#%% md\n"
    }
   },
   "source": [
    "Het script werkt met de functie cut_tubes, die per component het resultaat in de txt file schrijft.\n",
    "\n",
    "De functie heeft argumenten die kunnen worden ingevuld tussen de haakjes:\n",
    "```\n",
    "cut_tubes(component, bom_list_path, l_max=6000, use_size=True, t_saw=3)\n",
    "```\n",
    "Hieronder een voorbeeld van hoe de functie wordt gebruikt en de uitleg van alle argumenten.\n",
    "Bij bom_path moet de naam van de excel file worden ingevuld. Hierna is het voorbeeld klaar om te gebruiken."
   ]
  },
  {
   "cell_type": "code",
   "execution_count": 2,
   "metadata": {
    "pycharm": {
     "name": "#%%\n"
    }
   },
   "outputs": [],
   "source": [
    "bom_path = '.xlsx'"
   ]
  },
  {
   "cell_type": "code",
   "execution_count": 3,
   "metadata": {
    "pycharm": {
     "name": "#%%\n"
    }
   },
   "outputs": [],
   "source": [
    "cut_tubes('Constructiebuis vierkant', bom_path, 6000, True, 3)\n",
    "cut_tubes('Rechthoekige buis', bom_path)\n",
    "cut_tubes('EN 10217-7', bom_path, use_size=False)  # Gelaste ronde buis\n",
    "cut_tubes('HDPE100 Drukbuis', bom_path)\n",
    "cut_tubes('PVC Drukbuis', bom_path, 5000)\n",
    "cut_tubes('Hoeklijn', bom_path)\n",
    "cut_tubes('DIN 976-1A',bom_path, 3000)  # Draadstang"
   ]
  },
  {
   "cell_type": "markdown",
   "metadata": {
    "pycharm": {
     "name": "#%% md\n"
    }
   },
   "source": [
    "component is de naam in de kolom Component in de BOM lijst waar het script naar kijkt.\n",
    "\n",
    "bom_list_path is de naam van de excel file. Deze moet worden ingevuld bij de variabele bom_path hierboven tussen ''.\n",
    "Dan kan bom_path worden ingevuld in de functie om deze naam te gebruiken.\n",
    "\n",
    "l_max is de lengte van een standaard buis in mm. Als er niets is ingevuld neemt de functie standaard 6000 mm.\n",
    "\n",
    "use_size is True als de kolommen Size en Length kunnen worden gebruikt, en False als de kolom Size niet wordt gebruikt voor die component (zoals bij gelaste ronde buizen).\n",
    "Bij False worden de kolommen Diameter, Thickness en Length gebruikt. Standaard is use_size True.\n",
    "\n",
    "t_saw is de dikte van het zaagblad, deze lengte wordt tussen elke twee stukken buis bijgeteld. Standaard wordt 3 mm gebruikt."
   ]
  },
  {
   "cell_type": "markdown",
   "source": [
    "Hieronder een voorbeeld van de txt file die wordt gemaakt:\n",
    "![](example_output.png)"
   ],
   "metadata": {
    "collapsed": false
   }
  }
 ],
 "metadata": {
  "kernelspec": {
   "display_name": "Python 3",
   "language": "python",
   "name": "python3"
  },
  "language_info": {
   "codemirror_mode": {
    "name": "ipython",
    "version": 3
   },
   "file_extension": ".py",
   "mimetype": "text/x-python",
   "name": "python",
   "nbconvert_exporter": "python",
   "pygments_lexer": "ipython3",
   "version": "3.9.4"
  }
 },
 "nbformat": 4,
 "nbformat_minor": 1
}